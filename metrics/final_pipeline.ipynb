{
 "cells": [
  {
   "cell_type": "code",
   "execution_count": null,
   "id": "28f24f3b",
   "metadata": {},
   "outputs": [
    {
     "name": "stdout",
     "output_type": "stream",
     "text": [
      "WARNING:tensorflow:From c:\\Users\\ALTjasonspeed\\.conda\\envs\\JJAZ\\lib\\site-packages\\tf_keras\\src\\losses.py:2976: The name tf.losses.sparse_softmax_cross_entropy is deprecated. Please use tf.compat.v1.losses.sparse_softmax_cross_entropy instead.\n",
      "\n"
     ]
    },
    {
     "name": "stderr",
     "output_type": "stream",
     "text": [
      "c:\\Users\\ALTjasonspeed\\.conda\\envs\\JJAZ\\lib\\site-packages\\tqdm\\auto.py:21: TqdmWarning: IProgress not found. Please update jupyter and ipywidgets. See https://ipywidgets.readthedocs.io/en/stable/user_install.html\n",
      "  from .autonotebook import tqdm as notebook_tqdm\n"
     ]
    },
    {
     "name": "stdout",
     "output_type": "stream",
     "text": [
      "WARNING:tensorflow:From c:\\Users\\ALTjasonspeed\\.conda\\envs\\JJAZ\\lib\\site-packages\\tensorflow_hub\\resolver.py:120: The name tf.gfile.MakeDirs is deprecated. Please use tf.io.gfile.makedirs instead.\n",
      "\n"
     ]
    },
    {
     "name": "stderr",
     "output_type": "stream",
     "text": [
      "WARNING:tensorflow:From c:\\Users\\ALTjasonspeed\\.conda\\envs\\JJAZ\\lib\\site-packages\\tensorflow_hub\\resolver.py:120: The name tf.gfile.MakeDirs is deprecated. Please use tf.io.gfile.makedirs instead.\n",
      "\n"
     ]
    },
    {
     "name": "stdout",
     "output_type": "stream",
     "text": [
      "WARNING:tensorflow:From c:\\Users\\ALTjasonspeed\\.conda\\envs\\JJAZ\\lib\\site-packages\\tensorflow_hub\\module_v2.py:126: The name tf.saved_model.load_v2 is deprecated. Please use tf.compat.v2.saved_model.load instead.\n",
      "\n"
     ]
    },
    {
     "name": "stderr",
     "output_type": "stream",
     "text": [
      "WARNING:tensorflow:From c:\\Users\\ALTjasonspeed\\.conda\\envs\\JJAZ\\lib\\site-packages\\tensorflow_hub\\module_v2.py:126: The name tf.saved_model.load_v2 is deprecated. Please use tf.compat.v2.saved_model.load instead.\n",
      "\n"
     ]
    }
   ],
   "source": [
    "import pandas as pd\n",
    "import os, sys\n",
    "from openai import OpenAI\n",
    "import numpy as np\n",
    "from metrics import Metrics\n",
    "global metrics\n",
    "metrics = Metrics()\n",
    "# Extract the expert opinions using a structured format of 4 different models."
   ]
  },
  {
   "cell_type": "code",
   "execution_count": null,
   "id": "fb310eef",
   "metadata": {},
   "outputs": [],
   "source": [
    "models = [\"chatgpt\", \"claude\", \"deepseek\", \"gemini\"]\n",
    "# Define a function of model scores.\n",
    "def generate_model_score(model):\n",
    "    if model == \"chatgpt\" or model == \"claude\" or model == \"deepseek\" or model == \"gemini\":\n",
    "        df_of_scores = pd.read_csv(\"..\\\\data\\\\\" + model + \"_scores.csv\")\n",
    "        score = df_of_scores[\"Final Score\"].mean()\n",
    "        return score"
   ]
  },
  {
   "cell_type": "code",
   "execution_count": 43,
   "id": "74c4f881",
   "metadata": {},
   "outputs": [
    {
     "name": "stdout",
     "output_type": "stream",
     "text": [
      "{'chatgpt': 0.45246591544984077, 'claude': 0.41105391642572264, 'deepseek': 0.44169403399330187, 'gemini': 0.44601659659090737}\n"
     ]
    }
   ],
   "source": [
    "scores = {}\n",
    "for model in models:\n",
    "    scores[model] = generate_model_score(model)\n",
    "print(scores)"
   ]
  },
  {
   "cell_type": "code",
   "execution_count": 20,
   "id": "37e2bddd",
   "metadata": {},
   "outputs": [],
   "source": [
    "files = {\n",
    "    \"gpt\": \"../data/chatgpt_llm_answers_structured_output.csv\",\n",
    "    \"claude\": \"../data/claude_llm_answers_structured_output.csv\",\n",
    "    \"deepseek\": \"../data/deepseek_llm_answers_structured_output.csv\",\n",
    "    \"gemini\": \"../data/gemini_llm_answers_structured_output.csv\"\n",
    "}\n",
    "column_key_map = {\"Expert Key Factors in Consideration\": \"Key Factors\"}\n",
    "\n",
    "model_dfs = {model: pd.read_csv(path) for model, path in files.items()}\n",
    "\n",
    "def build_expert_dict(row_idx):\n",
    "    combined_dict = {}\n",
    "    for model, df in model_dfs.items():\n",
    "        combined_dict[model] = {\n",
    "            column_key_map[col]: df.loc[row_idx, col] for col in column_key_map\n",
    "        }\n",
    "    return combined_dict\n",
    "\n",
    "expert_lookup = { i: build_expert_dict(i) for i in range(len(model_dfs[\"claude\"])) }\n",
    "\n",
    "human_df = pd.read_csv(\"..\\\\data\\\\human_answers_processed_wide.csv\")\n",
    "human_df[\"Expert Data Dictionary\"] = human_df.index.map(expert_lookup)"
   ]
  },
  {
   "cell_type": "code",
   "execution_count": 23,
   "id": "9320e538",
   "metadata": {},
   "outputs": [],
   "source": [
    "def calculate_human_score(df: pd.DataFrame, metric_fn, metric_name: str) -> pd.DataFrame:\n",
    "    processed_cols = [\"processed_1\", \"processed_2\", \"processed_3\", \"processed_4\"]\n",
    "    section_key    = \"Key Factors\"\n",
    "    models         = [\"gpt\", \"claude\", \"deepseek\", \"gemini\"]\n",
    "\n",
    "    for col in processed_cols:\n",
    "        def row_score(row):\n",
    "            cand = row[col] if pd.notna(row[col]) else \"\"\n",
    "            refs = []\n",
    "            expert_dict = row[\"Expert Data Dictionary\"]\n",
    "            for m in models:\n",
    "                ref = expert_dict[m].get(section_key, \"\")\n",
    "                if pd.isna(ref):\n",
    "                    ref = \"\"\n",
    "                refs.append(ref)\n",
    "\n",
    "            scores = [metric_fn(cand, ref) for ref in refs]\n",
    "            return sum(scores) / len(scores) if scores else 0.0\n",
    "\n",
    "        score_col = f\"Score - {col} - {metric_name}\"\n",
    "        df[score_col] = df.apply(row_score, axis=1)\n",
    "\n",
    "    return df\n"
   ]
  },
  {
   "cell_type": "code",
   "execution_count": null,
   "id": "bf9d686e",
   "metadata": {},
   "outputs": [],
   "source": [
    "# Define a function of human baseline scores.\n",
    "score_table = pd.DataFrame()\n",
    "met = [metrics.compute_cosine_similarity, metrics.damerau_levenshtein, metrics.USE_similarity, metrics.compute_bleu]\n",
    "met_names = [\"Tf-idf\", \"DL\", \"USE\", \"BLEU\"]\n",
    "for i in range (len(met)):\n",
    "    score_table = calculate_human_score(human_df, met[i], met_names[i])\n"
   ]
  },
  {
   "cell_type": "code",
   "execution_count": null,
   "id": "368e8a1c",
   "metadata": {},
   "outputs": [
    {
     "name": "stdout",
     "output_type": "stream",
     "text": [
      "Index(['dilemma_description', 'processed_1', 'processed_2', 'processed_3',\n",
      "       'processed_4', 'Expert Data Dictionary', '_refs',\n",
      "       'Score - processed_1 - Tf-idf', 'Score - processed_2 - Tf-idf',\n",
      "       'Score - processed_3 - Tf-idf', 'Score - processed_4 - Tf-idf',\n",
      "       'Score - processed_1 - DL', 'Score - processed_2 - DL',\n",
      "       'Score - processed_3 - DL', 'Score - processed_4 - DL',\n",
      "       'Score - processed_1 - USE', 'Score - processed_2 - USE',\n",
      "       'Score - processed_3 - USE', 'Score - processed_4 - USE',\n",
      "       'Score - processed_1 - BLEU', 'Score - processed_2 - BLEU',\n",
      "       'Score - processed_3 - BLEU', 'Score - processed_4 - BLEU'],\n",
      "      dtype='object')\n"
     ]
    }
   ],
   "source": [
    "print(score_table.columns)"
   ]
  },
  {
   "cell_type": "code",
   "execution_count": 28,
   "id": "5ed34dfd",
   "metadata": {},
   "outputs": [
    {
     "name": "stdout",
     "output_type": "stream",
     "text": [
      "Index(['dilemma_description', 'processed_1', 'processed_2', 'processed_3',\n",
      "       'processed_4', 'Expert Data Dictionary', '_refs',\n",
      "       'Score - processed_1 - Tf-idf', 'Score - processed_2 - Tf-idf',\n",
      "       'Score - processed_3 - Tf-idf', 'Score - processed_4 - Tf-idf',\n",
      "       'Score - processed_1 - DL', 'Score - processed_2 - DL',\n",
      "       'Score - processed_3 - DL', 'Score - processed_4 - DL',\n",
      "       'Score - processed_1 - USE', 'Score - processed_2 - USE',\n",
      "       'Score - processed_3 - USE', 'Score - processed_4 - USE',\n",
      "       'Score - processed_1 - BLEU', 'Score - processed_2 - BLEU',\n",
      "       'Score - processed_3 - BLEU', 'Score - processed_4 - BLEU',\n",
      "       'Total Score processed_1', 'Total Score processed_2',\n",
      "       'Total Score processed_3', 'Total Score processed_4',\n",
      "       'Average Human Score'],\n",
      "      dtype='object')\n"
     ]
    }
   ],
   "source": [
    "processed_cols = [\"processed_1\", \"processed_2\", \"processed_3\", \"processed_4\"]\n",
    "for col in processed_cols:\n",
    "    score_table[f\"Total Score {col}\"] = score_table[f\"Score - {col} - DL\"] * 0.0768 + score_table[f\"Score - {col} - BLEU\"] * 0.1547 + score_table[f\"Score - {col} - USE\"] * 0.5386 + score_table[f\"Score - {col} - Tf-idf\"] * 0.2299\n",
    "\n",
    "score_table[\"Average Human Score\"] = score_table[[\"Total Score processed_1\", \"Total Score processed_2\", \"Total Score processed_3\", \"Total Score processed_4\"]].mean(axis=1)\n",
    "\n",
    "print(score_table.columns)"
   ]
  },
  {
   "cell_type": "code",
   "execution_count": null,
   "id": "3c5c240a",
   "metadata": {},
   "outputs": [],
   "source": [
    "score_table.to_csv(\"..\\\\data\\\\human_scores.csv\")"
   ]
  }
 ],
 "metadata": {
  "kernelspec": {
   "display_name": "Python 3",
   "language": "python",
   "name": "python3"
  },
  "language_info": {
   "codemirror_mode": {
    "name": "ipython",
    "version": 3
   },
   "file_extension": ".py",
   "mimetype": "text/x-python",
   "name": "python",
   "nbconvert_exporter": "python",
   "pygments_lexer": "ipython3",
   "version": "3.10.0"
  }
 },
 "nbformat": 4,
 "nbformat_minor": 5
}

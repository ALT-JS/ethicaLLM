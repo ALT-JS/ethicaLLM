{
 "cells": [
  {
   "cell_type": "code",
   "execution_count": null,
   "id": "28f24f3b",
   "metadata": {},
   "outputs": [],
   "source": [
    "import pandas as pd\n",
    "# Extract the expert opinions using a structured format of 4 different models."
   ]
  },
  {
   "cell_type": "code",
   "execution_count": null,
   "id": "c952d165",
   "metadata": {},
   "outputs": [],
   "source": [
    "# Define generating using other models.\n",
    "def generate_answer_with_model(model):\n",
    "    pass\n"
   ]
  },
  {
   "cell_type": "code",
   "execution_count": null,
   "id": "fb310eef",
   "metadata": {},
   "outputs": [],
   "source": [
    "models = [\"chatgpt\", \"claude\", \"deepseek\", \"gemini\"]\n",
    "# Define a function of model scores.\n",
    "def generate_model_score(model):\n",
    "    if model == \"chatgpt\" or model == \"claude\" or model == \"deepseek\" or model == \"gemini\":\n",
    "        filename_of_structured_output = model + \"_llm_answers_structured_output.csv\"\n",
    "        pass\n",
    "    else:\n",
    "        generate_answer_with_model(model)\n",
    "        pass"
   ]
  },
  {
   "cell_type": "code",
   "execution_count": null,
   "id": "74c4f881",
   "metadata": {},
   "outputs": [],
   "source": [
    "scores = []\n",
    "for model in models:\n",
    "    scores.append(generate_model_score(model))\n",
    "print(scores)"
   ]
  },
  {
   "cell_type": "code",
   "execution_count": null,
   "id": "a06e94ac",
   "metadata": {},
   "outputs": [],
   "source": [
    "# Define prompting the human baseline.\n",
    "def expand_human_answer(answer):\n",
    "    pass"
   ]
  },
  {
   "cell_type": "code",
   "execution_count": null,
   "id": "9320e538",
   "metadata": {},
   "outputs": [],
   "source": [
    "# Define a function of human baseline scores.\n",
    "def generate_human_baseline_scores(column_of_answers):\n",
    "    pass"
   ]
  }
 ],
 "metadata": {
  "language_info": {
   "name": "python"
  }
 },
 "nbformat": 4,
 "nbformat_minor": 5
}

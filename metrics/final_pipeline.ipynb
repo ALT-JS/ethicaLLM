{
 "cells": [
  {
   "cell_type": "code",
   "execution_count": 40,
   "id": "28f24f3b",
   "metadata": {},
   "outputs": [],
   "source": [
    "import pandas as pd\n",
    "import os\n",
    "# Extract the expert opinions using a structured format of 4 different models.\n",
    "# df = pd.read_csv(\"..\\data\\chatgpt_llm_answers_structured_output.csv\")\n",
    "# df"
   ]
  },
  {
   "cell_type": "code",
   "execution_count": 41,
   "id": "c952d165",
   "metadata": {},
   "outputs": [],
   "source": [
    "# Define generating using other models.\n",
    "def generate_answer_with_model(model):\n",
    "    pass\n"
   ]
  },
  {
   "cell_type": "code",
   "execution_count": 42,
   "id": "fb310eef",
   "metadata": {},
   "outputs": [],
   "source": [
    "models = [\"chatgpt\", \"claude\", \"deepseek\", \"gemini\"]\n",
    "# Define a function of model scores.\n",
    "def generate_model_score(model):\n",
    "    if model == \"chatgpt\" or model == \"claude\" or model == \"deepseek\" or model == \"gemini\":\n",
    "        df_of_scores = pd.read_csv(\"..\\\\data\\\\\" + model + \"_scores.csv\")\n",
    "        score = df_of_scores[\"Final Score\"].mean()\n",
    "        return score\n",
    "    else:\n",
    "        generate_answer_with_model(model)\n",
    "        pass"
   ]
  },
  {
   "cell_type": "code",
   "execution_count": 43,
   "id": "74c4f881",
   "metadata": {},
   "outputs": [
    {
     "name": "stdout",
     "output_type": "stream",
     "text": [
      "{'chatgpt': 0.45246591544984077, 'claude': 0.41105391642572264, 'deepseek': 0.44169403399330187, 'gemini': 0.44601659659090737}\n"
     ]
    }
   ],
   "source": [
    "scores = {}\n",
    "for model in models:\n",
    "    scores[model] = generate_model_score(model)\n",
    "print(scores)"
   ]
  },
  {
   "cell_type": "code",
   "execution_count": 44,
   "id": "a06e94ac",
   "metadata": {},
   "outputs": [],
   "source": [
    "# Define prompting the human baseline.\n",
    "def expand_human_answer(answer):\n",
    "    pass"
   ]
  },
  {
   "cell_type": "code",
   "execution_count": 45,
   "id": "9320e538",
   "metadata": {},
   "outputs": [],
   "source": [
    "# Define a function of human baseline scores.\n",
    "def generate_human_baseline_scores(column_of_answers):\n",
    "    pass"
   ]
  }
 ],
 "metadata": {
  "kernelspec": {
   "display_name": "ethical",
   "language": "python",
   "name": "python3"
  },
  "language_info": {
   "codemirror_mode": {
    "name": "ipython",
    "version": 3
   },
   "file_extension": ".py",
   "mimetype": "text/x-python",
   "name": "python",
   "nbconvert_exporter": "python",
   "pygments_lexer": "ipython3",
   "version": "3.10.16"
  }
 },
 "nbformat": 4,
 "nbformat_minor": 5
}

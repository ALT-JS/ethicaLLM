{
 "cells": [
  {
   "cell_type": "code",
   "execution_count": 1,
   "metadata": {},
   "outputs": [
    {
     "name": "stderr",
     "output_type": "stream",
     "text": [
      "/Library/Frameworks/Python.framework/Versions/3.10/lib/python3.10/site-packages/tqdm/auto.py:21: TqdmWarning: IProgress not found. Please update jupyter and ipywidgets. See https://ipywidgets.readthedocs.io/en/stable/user_install.html\n",
      "  from .autonotebook import tqdm as notebook_tqdm\n"
     ]
    }
   ],
   "source": [
    "from metrics import Metrics"
   ]
  },
  {
   "cell_type": "code",
   "execution_count": 2,
   "metadata": {},
   "outputs": [],
   "source": [
    "def all_scores_(reference_text, hypothesis_text):\n",
    "    metrics = Metrics()\n",
    "    \n",
    "    bleu_score = metrics.compute_bleu(reference_text, hypothesis_text)\n",
    "    nist_score = metrics.compute_nist(reference_text, hypothesis_text)\n",
    "    meteor_s = metrics.compute_meteor(reference_text, hypothesis_text)\n",
    "    rouge_scores = metrics.compute_rouge(reference_text, hypothesis_text)\n",
    "    em = metrics.exact_match(reference_text, hypothesis_text)\n",
    "    levenshtein_dist = metrics.levenshtein_distance(reference_text, hypothesis_text)\n",
    "    damerau_levenshtein_score = metrics.damerau_levenshtein(reference_text, hypothesis_text)\n",
    "    word_error_rate_score = metrics.word_error_rate(reference_text, hypothesis_text)\n",
    "    gestalt_score = metrics.gestalt_pattern_matching(reference_text, hypothesis_text)\n",
    "    jaccard_score = metrics.jaccard(reference_text, hypothesis_text)\n",
    "    overlap_coeff_score = metrics.overlap_coeff(reference_text, hypothesis_text)\n",
    "    dice_sorensen_score = metrics.dice_sorensen_coefficient(reference_text, hypothesis_text)\n",
    "    tf_idf_score = metrics.compute_cosine_similarity(reference_text, hypothesis_text, \"tf-idf\")\n",
    "    word_freq_score = metrics.compute_cosine_similarity(reference_text, hypothesis_text, \"word_frequency\")\n",
    "    spacy_similarity = metrics.semantic_similarity_spacy(reference_text, hypothesis_text)\n",
    "    wmd_score = metrics.wmd(reference_text, hypothesis_text)\n",
    "    gensim_cosine_score = metrics.gensim_cosine(reference_text, hypothesis_text)\n",
    "    sbert_score = metrics.sbert_cosine(reference_text, hypothesis_text)\n",
    "    use_score = metrics.USE_similarity(reference_text, hypothesis_text)\n",
    "    soft_cosine_score = metrics.soft_cosine(reference_text, hypothesis_text)\n",
    "    \n",
    "    return [\n",
    "        bleu_score, nist_score, meteor_s, rouge_scores, em, levenshtein_dist, \n",
    "        damerau_levenshtein_score, word_error_rate_score, gestalt_score, jaccard_score, \n",
    "        overlap_coeff_score, dice_sorensen_score, tf_idf_score, word_freq_score, \n",
    "        spacy_similarity, wmd_score, gensim_cosine_score, sbert_score, use_score, soft_cosine_score\n",
    "    ]\n"
   ]
  },
  {
   "cell_type": "code",
   "execution_count": 5,
   "metadata": {},
   "outputs": [
    {
     "data": {
      "text/plain": [
       "[0.8260465164578865,\n",
       " 0,\n",
       " 0.0,\n",
       " 0,\n",
       " 0,\n",
       " 83,\n",
       " 0.7844155844155845,\n",
       " 0.7844155844155845,\n",
       " 0.32625994694960214,\n",
       " 0.9666666666666667,\n",
       " 1.0,\n",
       " 0.9830508474576272,\n",
       " 0.8603579934292732,\n",
       " 0.9225806451612905,\n",
       " 0.9948443554656535,\n",
       " 0.2749621074490797,\n",
       " 0.99941224,\n",
       " 0.9730767011642456,\n",
       " 0.95047617,\n",
       " 0]"
      ]
     },
     "execution_count": 5,
     "metadata": {},
     "output_type": "execute_result"
    }
   ],
   "source": [
    "reference_text = \"The transition from winter to spring is one of the most anticipated times of the year. The cold weather begins to fade, and the warmth of the sun gradually returns. As the days grow longer, nature awakens, with flowers blooming and trees regrowing their leaves. People feel renewed, eager to spend more time outdoors and enjoy the fresh air. It is a season of hope, growth, and change.\"\n",
    "hypothesis_text = \"The transition from winter to spring is one of the most anticipated times of the year. The cold begins to disappear and the heat of the sun gradually returns. As the days get longer, nature awakens, flowers bloom and trees grow again. People feel refreshed and look forward to spending more time outdoors enjoying the fresh air. It is a time of hope, growth and change.\"\n",
    "all_scores_(reference_text, hypothesis_text)"
   ]
  },
  {
   "cell_type": "code",
   "execution_count": null,
   "metadata": {},
   "outputs": [],
   "source": []
  }
 ],
 "metadata": {
  "kernelspec": {
   "display_name": "Python 3",
   "language": "python",
   "name": "python3"
  },
  "language_info": {
   "codemirror_mode": {
    "name": "ipython",
    "version": 3
   },
   "file_extension": ".py",
   "mimetype": "text/x-python",
   "name": "python",
   "nbconvert_exporter": "python",
   "pygments_lexer": "ipython3",
   "version": "3.10.11"
  }
 },
 "nbformat": 4,
 "nbformat_minor": 2
}

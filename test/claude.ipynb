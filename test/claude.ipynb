{
 "cells": [
  {
   "cell_type": "code",
   "execution_count": null,
   "metadata": {},
   "outputs": [
    {
     "name": "stdout",
     "output_type": "stream",
     "text": [
      "Tears of ancient mountains,\n",
      "Dissolved through time's long sweep,\n",
      "Minerals and memories\n",
      "Flow to endless deep.\n",
      "\n",
      "Where rivers meet the sea,\n",
      "They bring their earthen load -\n",
      "Salt of countless ages\n",
      "In Neptune's vast abode.\n"
     ]
    }
   ],
   "source": [
    "import anthropic\n",
    "\n",
    "client = anthropic.Client(api_key=\"YOUR API HERE\")\n",
    "\n",
    "message = client.messages.create(\n",
    "    model=\"claude-3-5-sonnet-20241022\",\n",
    "    max_tokens=1000,\n",
    "    temperature=1,\n",
    "    system=\"You are a world-class poet. Respond only with short poems.\",\n",
    "    messages=[\n",
    "        {\n",
    "            \"role\": \"user\",\n",
    "            \"content\": [\n",
    "                {\n",
    "                    \"type\": \"text\",\n",
    "                    \"text\": \"Why is the ocean salty?\"\n",
    "                }\n",
    "            ]\n",
    "        }\n",
    "    ]\n",
    ")\n",
    "print(message.content[0].text)\n"
   ]
  },
  {
   "cell_type": "code",
   "execution_count": 11,
   "metadata": {},
   "outputs": [
    {
     "name": "stderr",
     "output_type": "stream",
     "text": [
      "c:\\Users\\ALTjasonspeed\\.conda\\envs\\JJAZ\\lib\\site-packages\\tqdm\\auto.py:21: TqdmWarning: IProgress not found. Please update jupyter and ipywidgets. See https://ipywidgets.readthedocs.io/en/stable/user_install.html\n",
      "  from .autonotebook import tqdm as notebook_tqdm\n"
     ]
    }
   ],
   "source": [
    "import anthropic\n",
    "import pandas as pd\n",
    "from tqdm import tqdm\n",
    "from sentence_transformers import SentenceTransformer, util\n",
    "import sys\n",
    "import os"
   ]
  },
  {
   "cell_type": "code",
   "execution_count": null,
   "metadata": {},
   "outputs": [],
   "source": [
    "sys.path.append(os.path.abspath(os.path.join(os.getcwd(), '..')))\n",
    "from prompts.temp_expert_prompt import e_system_prompt, e_user_prompt\n",
    "from prompts.temp_prompt import system_prompt, user_prompt\n",
    "\n",
    "client = anthropic.Client(api_key=\"YOUR API HERE\")\n",
    "def generate_expert(dilema_decription, expert_opionion):\n",
    "    response = client.messages.create(\n",
    "        model=\"claude-3-5-sonnet-20241022\",\n",
    "        max_tokens=1000,\n",
    "        temperature=0,\n",
    "        system=f\"{e_system_prompt}\",\n",
    "        messages=[\n",
    "            {\n",
    "                \"role\": \"user\",\n",
    "                \"content\": [\n",
    "                    {\n",
    "                        \"type\": \"text\",\n",
    "                        \"text\": f\"{e_user_prompt.format(dilema_decription, expert_opionion)}\"\n",
    "                    }\n",
    "                ]\n",
    "            }\n",
    "        ]\n",
    "    )\n",
    "    \n",
    "    return response.content[0].text\n",
    "\n",
    "def generate_output(dilemma_decription):\n",
    "    response = client.messages.create(\n",
    "        model=\"claude-3-5-sonnet-20241022\",\n",
    "        max_tokens=1000,\n",
    "        temperature=0,\n",
    "        system=f\"{system_prompt}\",\n",
    "        messages=[\n",
    "            {\n",
    "                \"role\": \"user\",\n",
    "                \"content\": [\n",
    "                    {\n",
    "                        \"type\": \"text\",\n",
    "                        \"text\": f\"{user_prompt.format(dilemma_decription)}\"\n",
    "                    }\n",
    "                ]\n",
    "            }\n",
    "        ]\n",
    "    )\n",
    "    \n",
    "    return response.content[0].text"
   ]
  },
  {
   "cell_type": "code",
   "execution_count": null,
   "metadata": {},
   "outputs": [],
   "source": [
    "llm_answers = pd.read_csv(\"../data/llm_answers.csv\")\n",
    "llm_answers = llm_answers[[\"Dilemma Description\", \"Expert Opinion\"]]\n",
    "llm_answers[\"expert_output\"] = llm_answers.apply(lambda row: generate_expert(row['Dilemma Description'], row['Expert Opinion']), axis=1)\n",
    "llm_answers[\"dilemma_output\"] = llm_answers.apply(lambda row: generate_output(row['Dilemma Description']), axis=1)\n",
    "\n",
    "temp = llm_answers['expert_output'].str.split('%', expand=True)\n",
    "temp.columns = ['' if col == 0 else temp[col].str.split(':', expand=True)[0].iloc[0] for col in temp.columns]\n",
    "for col in temp.columns[1:]:\n",
    "    try:\n",
    "        llm_answers[\"Expert \" + col] = temp[col].astype(str).str.split(':', expand=True)[1].str.strip()\n",
    "    except:\n",
    "        continue\n",
    "\n",
    "temp2 = llm_answers['dilemma_output'].str.split('%', expand=True)\n",
    "temp2.columns = ['' if col == 0 else temp2[col].str.split(':', expand=True)[0].iloc[0] for col in temp2.columns]\n",
    "for col in temp2.columns[1:]:\n",
    "    try:\n",
    "        llm_answers[\"Dilemma \" + col] = temp2[col].astype(str).str.split(':', expand=True)[1].str.strip()\n",
    "    except:\n",
    "        continue\n",
    "\n",
    "llm_answers.to_csv(\"claude_llm_answers_structured_output.csv\")"
   ]
  }
 ],
 "metadata": {
  "kernelspec": {
   "display_name": "Python 3",
   "language": "python",
   "name": "python3"
  },
  "language_info": {
   "codemirror_mode": {
    "name": "ipython",
    "version": 3
   },
   "file_extension": ".py",
   "mimetype": "text/x-python",
   "name": "python",
   "nbconvert_exporter": "python",
   "pygments_lexer": "ipython3",
   "version": "3.10.0"
  }
 },
 "nbformat": 4,
 "nbformat_minor": 2
}

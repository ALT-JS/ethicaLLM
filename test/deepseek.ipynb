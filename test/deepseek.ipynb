{
 "cells": [
  {
   "cell_type": "code",
   "execution_count": null,
   "metadata": {},
   "outputs": [],
   "source": [
    "# Please install OpenAI SDK first: `pip3 install openai`\n",
    "\n",
    "from openai import OpenAI\n",
    "\n",
    "client = OpenAI(api_key=\"sk-65e478f6033944a28ba38274d6785f07\", base_url=\"https://api.deepseek.com\")\n",
    "\n",
    "response = client.chat.completions.create(\n",
    "    model=\"deepseek-chat\",\n",
    "    messages=[\n",
    "        {\"role\": \"system\", \"content\": \"You are a helpful assistant\"},\n",
    "        {\"role\": \"user\", \"content\": \"Hello\"},\n",
    "    ],\n",
    "    stream=False\n",
    ")\n",
    "\n",
    "print(response.choices[0].message.content)"
   ]
  },
  {
   "cell_type": "code",
   "execution_count": 1,
   "metadata": {},
   "outputs": [
    {
     "name": "stderr",
     "output_type": "stream",
     "text": [
      "c:\\Users\\ALTjasonspeed\\.conda\\envs\\JJAZ\\lib\\site-packages\\tqdm\\auto.py:21: TqdmWarning: IProgress not found. Please update jupyter and ipywidgets. See https://ipywidgets.readthedocs.io/en/stable/user_install.html\n",
      "  from .autonotebook import tqdm as notebook_tqdm\n"
     ]
    }
   ],
   "source": [
    "from openai import OpenAI\n",
    "import pandas as pd\n",
    "from tqdm import tqdm\n",
    "from sentence_transformers import SentenceTransformer, util\n",
    "import sys\n",
    "import os"
   ]
  },
  {
   "cell_type": "code",
   "execution_count": 2,
   "metadata": {},
   "outputs": [],
   "source": [
    "sys.path.append(os.path.abspath(os.path.join(os.getcwd(), '..')))\n",
    "from prompts.temp_expert_prompt import e_system_prompt, e_user_prompt\n",
    "from prompts.temp_prompt import system_prompt, user_prompt\n",
    "\n",
    "def generate_expert(dilema_decription, expert_opionion):\n",
    "    client = OpenAI(api_key=\"sk-65e478f6033944a28ba38274d6785f07\", base_url=\"https://api.deepseek.com\")\n",
    "\n",
    "    response = client.chat.completions.create(\n",
    "        model=\"deepseek-chat\",\n",
    "        messages=[\n",
    "            {\"role\": \"system\", \"content\": f\"{e_system_prompt}\"},\n",
    "            {\"role\": \"user\", \"content\": f\"{e_user_prompt.format(dilema_decription, expert_opionion)}\"},\n",
    "        ],\n",
    "        stream=False,\n",
    "        temperature=0,\n",
    "    )\n",
    "    \n",
    "    return response.choices[0].message.content\n",
    "\n",
    "def generate_output(dilemma_decription):\n",
    "    client = OpenAI(api_key=\"sk-65e478f6033944a28ba38274d6785f07\", base_url=\"https://api.deepseek.com\")\n",
    "\n",
    "    response = client.chat.completions.create(\n",
    "        model=\"deepseek-chat\",\n",
    "        messages=[\n",
    "            {\"role\": \"system\", \"content\": f\"{system_prompt}\"},\n",
    "            {\"role\": \"user\", \"content\": f\"{user_prompt.format(dilemma_decription)}\"},\n",
    "        ],\n",
    "        stream=False,\n",
    "        temperature=0,\n",
    "    )\n",
    "    \n",
    "    return response.choices[0].message.content"
   ]
  },
  {
   "cell_type": "code",
   "execution_count": 3,
   "metadata": {},
   "outputs": [],
   "source": [
    "llm_answers = pd.read_csv(\"../data/llm_answers.csv\")\n",
    "llm_answers = llm_answers[[\"Dilemma Description\", \"Expert Opinion\"]]\n",
    "llm_answers[\"expert_output\"] = llm_answers.apply(lambda row: generate_expert(row['Dilemma Description'], row['Expert Opinion']), axis=1)\n",
    "llm_answers[\"dilemma_output\"] = llm_answers.apply(lambda row: generate_output(row['Dilemma Description']), axis=1)\n",
    "\n",
    "temp = llm_answers['expert_output'].str.split('%', expand=True)\n",
    "temp.columns = ['' if col == 0 else temp[col].str.split(':', expand=True)[0].iloc[0] for col in temp.columns]\n",
    "for col in temp.columns[1:]:\n",
    "    llm_answers[\"Expert \" + col] = temp[col].str.split(':', expand=True)[1].str.strip()\n",
    "\n",
    "temp2 = llm_answers['dilemma_output'].str.split('%', expand=True)\n",
    "temp2.columns = ['' if col == 0 else temp2[col].str.split(':', expand=True)[0].iloc[0] for col in temp2.columns]\n",
    "for col in temp2.columns[1:]:\n",
    "    llm_answers[\"Dilemma \" + col] = temp2[col].str.split(':', expand=True)[1].str.strip()\n",
    "\n",
    "llm_answers.to_csv(\"deepseek_llm_answers_structured_output.csv\")"
   ]
  }
 ],
 "metadata": {
  "kernelspec": {
   "display_name": "Python 3",
   "language": "python",
   "name": "python3"
  },
  "language_info": {
   "codemirror_mode": {
    "name": "ipython",
    "version": 3
   },
   "file_extension": ".py",
   "mimetype": "text/x-python",
   "name": "python",
   "nbconvert_exporter": "python",
   "pygments_lexer": "ipython3",
   "version": "3.10.0"
  }
 },
 "nbformat": 4,
 "nbformat_minor": 2
}
